{
  "nbformat": 4,
  "nbformat_minor": 0,
  "metadata": {
    "colab": {
      "provenance": [],
      "authorship_tag": "ABX9TyMxcn+rSXtkBRCdT4Is/uLu",
      "include_colab_link": true
    },
    "kernelspec": {
      "name": "python3",
      "display_name": "Python 3"
    },
    "language_info": {
      "name": "python"
    }
  },
  "cells": [
    {
      "cell_type": "markdown",
      "metadata": {
        "id": "view-in-github",
        "colab_type": "text"
      },
      "source": [
        "<a href=\"https://colab.research.google.com/github/sincereQK/QK-ML-Data-study/blob/main/LSTM_First_20250904.ipynb\" target=\"_parent\"><img src=\"https://colab.research.google.com/assets/colab-badge.svg\" alt=\"Open In Colab\"/></a>"
      ]
    },
    {
      "cell_type": "code",
      "execution_count": null,
      "metadata": {
        "id": "jf0m5taROyuh"
      },
      "outputs": [],
      "source": [
        "import pandas as pd\n",
        "import numpy as np\n",
        "from sklearn.preprocessing import MinMaxScaler\n",
        "from tensorflow.keras.models import Sequential\n",
        "from tensorflow.keras.layers import Dense, LSTM, Dropout\n",
        "import matplotlib.pyplot as plt\n",
        "\n",
        "# 1. 데이터 불러오기 및 전처리\n",
        "df = pd.read_csv('20230610_20250610_일봉_000050_경방.csv')\n",
        "\n",
        "# '일자'를 datetime 형식으로 변환하고 오름차순으로 정렬\n",
        "df['일자'] = pd.to_datetime(df['일자'], format='%Y%m%d')\n",
        "df = df.sort_values('일자')\n",
        "\n",
        "# 현재가(종가) 데이터만 사용\n",
        "data = df['현재가'].values.reshape(-1, 1)\n",
        "\n",
        "# 데이터 정규화 (0과 1 사이로 스케일링)\n",
        "scaler = MinMaxScaler(feature_range=(0, 1))\n",
        "scaled_data = scaler.fit_transform(data)\n",
        "\n",
        "# 학습 데이터와 테스트 데이터 분리 (80% 학습, 20% 테스트)\n",
        "train_data_len = int(np.ceil(len(scaled_data) * 0.8))\n",
        "train_data = scaled_data[0:train_data_len, :]\n",
        "test_data = scaled_data[train_data_len - 60:, :]\n",
        "\n",
        "# 학습 데이터셋 생성\n",
        "x_train = []\n",
        "y_train = []\n",
        "\n",
        "for i in range(60, len(train_data)):\n",
        "    x_train.append(train_data[i-60:i, 0])\n",
        "    y_train.append(train_data[i, 0])\n",
        "\n",
        "x_train, y_train = np.array(x_train), np.array(y_train)\n",
        "x_train = np.reshape(x_train, (x_train.shape[0], x_train.shape[1], 1))\n",
        "\n",
        "\n",
        "# 2. LSTM 모델 구축\n",
        "model = Sequential()\n",
        "model.add(LSTM(units=50, return_sequences=True, input_shape=(x_train.shape[1], 1)))\n",
        "model.add(Dropout(0.2))\n",
        "model.add(LSTM(units=50, return_sequences=False))\n",
        "model.add(Dropout(0.2))\n",
        "model.add(Dense(units=25))\n",
        "model.add(Dense(units=1))\n",
        "\n",
        "# 모델 컴파일\n",
        "model.compile(optimizer='adam', loss='mean_squared_error')\n",
        "\n",
        "# 3. 모델 학습\n",
        "model.fit(x_train, y_train, batch_size=32, epochs=50)\n",
        "\n",
        "\n",
        "# 4. 테스트 데이터셋 생성 및 예측\n",
        "x_test = []\n",
        "y_test = data[train_data_len:, :]\n",
        "for i in range(60, len(test_data)):\n",
        "    x_test.append(test_data[i-60:i, 0])\n",
        "\n",
        "x_test = np.array(x_test)\n",
        "x_test = np.reshape(x_test, (x_test.shape[0], x_test.shape[1], 1))\n",
        "\n",
        "predictions = model.predict(x_test)\n",
        "predictions = scaler.inverse_transform(predictions)\n",
        "\n",
        "\n",
        "# 5. 결과 시각화\n",
        "train = df[:train_data_len]\n",
        "valid = df[train_data_len:]\n",
        "valid['Predictions'] = predictions\n",
        "\n",
        "plt.figure(figsize=(16,8))\n",
        "plt.title('Model')\n",
        "plt.xlabel('Date', fontsize=18)\n",
        "plt.ylabel('Close Price KRW', fontsize=18)\n",
        "plt.plot(train['일자'], train['현재가'])\n",
        "plt.plot(valid['일자'], valid[['현재가', 'Predictions']])\n",
        "plt.legend(['Train', 'Val', 'Predictions'], loc='lower right')\n",
        "plt.savefig('stock_prediction.png')\n",
        "\n",
        "# 6. 향후 주가 예측 (마지막 60일 데이터 사용)\n",
        "last_60_days = scaled_data[-60:]\n",
        "x_predict = np.reshape(last_60_days, (1, last_60_days.shape[0], 1))\n",
        "predicted_price = model.predict(x_predict)\n",
        "predicted_price = scaler.inverse_transform(predicted_price)\n",
        "print(f'다음 날 예측 주가: {predicted_price[0][0]}')"
      ]
    }
  ]
}