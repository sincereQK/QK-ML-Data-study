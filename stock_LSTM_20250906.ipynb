{
  "nbformat": 4,
  "nbformat_minor": 0,
  "metadata": {
    "colab": {
      "provenance": [],
      "mount_file_id": "10gA5LefpVAL318XMoX8vlzIztGYz5fVK",
      "authorship_tag": "ABX9TyMLfUmXGSYmhUn0rK0GsA5L",
      "include_colab_link": true
    },
    "kernelspec": {
      "name": "python3",
      "display_name": "Python 3"
    },
    "language_info": {
      "name": "python"
    }
  },
  "cells": [
    {
      "cell_type": "markdown",
      "metadata": {
        "id": "view-in-github",
        "colab_type": "text"
      },
      "source": [
        "<a href=\"https://colab.research.google.com/github/sincereQK/QK-ML-Data-study/blob/main/stock_LSTM_20250906.ipynb\" target=\"_parent\"><img src=\"https://colab.research.google.com/assets/colab-badge.svg\" alt=\"Open In Colab\"/></a>"
      ]
    },
    {
      "cell_type": "code",
      "source": [
        "!pip install tensorflow scikit-learn pandas numpy matplotlib pandas-ta"
      ],
      "metadata": {
        "colab": {
          "base_uri": "https://localhost:8080/"
        },
        "id": "aO-oTgXTXo4Z",
        "outputId": "7a8d9cdb-1c31-4811-c36a-c3c496256857"
      },
      "execution_count": 8,
      "outputs": [
        {
          "output_type": "stream",
          "name": "stdout",
          "text": [
            "Requirement already satisfied: tensorflow in /usr/local/lib/python3.12/dist-packages (2.19.0)\n",
            "Requirement already satisfied: scikit-learn in /usr/local/lib/python3.12/dist-packages (1.6.1)\n",
            "Requirement already satisfied: pandas in /usr/local/lib/python3.12/dist-packages (2.2.2)\n",
            "Requirement already satisfied: numpy in /usr/local/lib/python3.12/dist-packages (2.0.2)\n",
            "Requirement already satisfied: matplotlib in /usr/local/lib/python3.12/dist-packages (3.10.0)\n",
            "Requirement already satisfied: pandas-ta in /usr/local/lib/python3.12/dist-packages (0.3.14b0)\n",
            "Requirement already satisfied: absl-py>=1.0.0 in /usr/local/lib/python3.12/dist-packages (from tensorflow) (1.4.0)\n",
            "Requirement already satisfied: astunparse>=1.6.0 in /usr/local/lib/python3.12/dist-packages (from tensorflow) (1.6.3)\n",
            "Requirement already satisfied: flatbuffers>=24.3.25 in /usr/local/lib/python3.12/dist-packages (from tensorflow) (25.2.10)\n",
            "Requirement already satisfied: gast!=0.5.0,!=0.5.1,!=0.5.2,>=0.2.1 in /usr/local/lib/python3.12/dist-packages (from tensorflow) (0.6.0)\n",
            "Requirement already satisfied: google-pasta>=0.1.1 in /usr/local/lib/python3.12/dist-packages (from tensorflow) (0.2.0)\n",
            "Requirement already satisfied: libclang>=13.0.0 in /usr/local/lib/python3.12/dist-packages (from tensorflow) (18.1.1)\n",
            "Requirement already satisfied: opt-einsum>=2.3.2 in /usr/local/lib/python3.12/dist-packages (from tensorflow) (3.4.0)\n",
            "Requirement already satisfied: packaging in /usr/local/lib/python3.12/dist-packages (from tensorflow) (25.0)\n",
            "Requirement already satisfied: protobuf!=4.21.0,!=4.21.1,!=4.21.2,!=4.21.3,!=4.21.4,!=4.21.5,<6.0.0dev,>=3.20.3 in /usr/local/lib/python3.12/dist-packages (from tensorflow) (5.29.5)\n",
            "Requirement already satisfied: requests<3,>=2.21.0 in /usr/local/lib/python3.12/dist-packages (from tensorflow) (2.32.4)\n",
            "Requirement already satisfied: setuptools in /usr/local/lib/python3.12/dist-packages (from tensorflow) (75.2.0)\n",
            "Requirement already satisfied: six>=1.12.0 in /usr/local/lib/python3.12/dist-packages (from tensorflow) (1.17.0)\n",
            "Requirement already satisfied: termcolor>=1.1.0 in /usr/local/lib/python3.12/dist-packages (from tensorflow) (3.1.0)\n",
            "Requirement already satisfied: typing-extensions>=3.6.6 in /usr/local/lib/python3.12/dist-packages (from tensorflow) (4.15.0)\n",
            "Requirement already satisfied: wrapt>=1.11.0 in /usr/local/lib/python3.12/dist-packages (from tensorflow) (1.17.3)\n",
            "Requirement already satisfied: grpcio<2.0,>=1.24.3 in /usr/local/lib/python3.12/dist-packages (from tensorflow) (1.74.0)\n",
            "Requirement already satisfied: tensorboard~=2.19.0 in /usr/local/lib/python3.12/dist-packages (from tensorflow) (2.19.0)\n",
            "Requirement already satisfied: keras>=3.5.0 in /usr/local/lib/python3.12/dist-packages (from tensorflow) (3.10.0)\n",
            "Requirement already satisfied: h5py>=3.11.0 in /usr/local/lib/python3.12/dist-packages (from tensorflow) (3.14.0)\n",
            "Requirement already satisfied: ml-dtypes<1.0.0,>=0.5.1 in /usr/local/lib/python3.12/dist-packages (from tensorflow) (0.5.3)\n",
            "Requirement already satisfied: scipy>=1.6.0 in /usr/local/lib/python3.12/dist-packages (from scikit-learn) (1.16.1)\n",
            "Requirement already satisfied: joblib>=1.2.0 in /usr/local/lib/python3.12/dist-packages (from scikit-learn) (1.5.2)\n",
            "Requirement already satisfied: threadpoolctl>=3.1.0 in /usr/local/lib/python3.12/dist-packages (from scikit-learn) (3.6.0)\n",
            "Requirement already satisfied: python-dateutil>=2.8.2 in /usr/local/lib/python3.12/dist-packages (from pandas) (2.9.0.post0)\n",
            "Requirement already satisfied: pytz>=2020.1 in /usr/local/lib/python3.12/dist-packages (from pandas) (2025.2)\n",
            "Requirement already satisfied: tzdata>=2022.7 in /usr/local/lib/python3.12/dist-packages (from pandas) (2025.2)\n",
            "Requirement already satisfied: contourpy>=1.0.1 in /usr/local/lib/python3.12/dist-packages (from matplotlib) (1.3.3)\n",
            "Requirement already satisfied: cycler>=0.10 in /usr/local/lib/python3.12/dist-packages (from matplotlib) (0.12.1)\n",
            "Requirement already satisfied: fonttools>=4.22.0 in /usr/local/lib/python3.12/dist-packages (from matplotlib) (4.59.2)\n",
            "Requirement already satisfied: kiwisolver>=1.3.1 in /usr/local/lib/python3.12/dist-packages (from matplotlib) (1.4.9)\n",
            "Requirement already satisfied: pillow>=8 in /usr/local/lib/python3.12/dist-packages (from matplotlib) (11.3.0)\n",
            "Requirement already satisfied: pyparsing>=2.3.1 in /usr/local/lib/python3.12/dist-packages (from matplotlib) (3.2.3)\n",
            "Requirement already satisfied: wheel<1.0,>=0.23.0 in /usr/local/lib/python3.12/dist-packages (from astunparse>=1.6.0->tensorflow) (0.45.1)\n",
            "Requirement already satisfied: rich in /usr/local/lib/python3.12/dist-packages (from keras>=3.5.0->tensorflow) (13.9.4)\n",
            "Requirement already satisfied: namex in /usr/local/lib/python3.12/dist-packages (from keras>=3.5.0->tensorflow) (0.1.0)\n",
            "Requirement already satisfied: optree in /usr/local/lib/python3.12/dist-packages (from keras>=3.5.0->tensorflow) (0.17.0)\n",
            "Requirement already satisfied: charset_normalizer<4,>=2 in /usr/local/lib/python3.12/dist-packages (from requests<3,>=2.21.0->tensorflow) (3.4.3)\n",
            "Requirement already satisfied: idna<4,>=2.5 in /usr/local/lib/python3.12/dist-packages (from requests<3,>=2.21.0->tensorflow) (3.10)\n",
            "Requirement already satisfied: urllib3<3,>=1.21.1 in /usr/local/lib/python3.12/dist-packages (from requests<3,>=2.21.0->tensorflow) (2.5.0)\n",
            "Requirement already satisfied: certifi>=2017.4.17 in /usr/local/lib/python3.12/dist-packages (from requests<3,>=2.21.0->tensorflow) (2025.8.3)\n",
            "Requirement already satisfied: markdown>=2.6.8 in /usr/local/lib/python3.12/dist-packages (from tensorboard~=2.19.0->tensorflow) (3.8.2)\n",
            "Requirement already satisfied: tensorboard-data-server<0.8.0,>=0.7.0 in /usr/local/lib/python3.12/dist-packages (from tensorboard~=2.19.0->tensorflow) (0.7.2)\n",
            "Requirement already satisfied: werkzeug>=1.0.1 in /usr/local/lib/python3.12/dist-packages (from tensorboard~=2.19.0->tensorflow) (3.1.3)\n",
            "Requirement already satisfied: MarkupSafe>=2.1.1 in /usr/local/lib/python3.12/dist-packages (from werkzeug>=1.0.1->tensorboard~=2.19.0->tensorflow) (3.0.2)\n",
            "Requirement already satisfied: markdown-it-py>=2.2.0 in /usr/local/lib/python3.12/dist-packages (from rich->keras>=3.5.0->tensorflow) (4.0.0)\n",
            "Requirement already satisfied: pygments<3.0.0,>=2.13.0 in /usr/local/lib/python3.12/dist-packages (from rich->keras>=3.5.0->tensorflow) (2.19.2)\n",
            "Requirement already satisfied: mdurl~=0.1 in /usr/local/lib/python3.12/dist-packages (from markdown-it-py>=2.2.0->rich->keras>=3.5.0->tensorflow) (0.1.2)\n"
          ]
        }
      ]
    },
    {
      "cell_type": "code",
      "source": [
        "pip install --upgrade pandas-ta"
      ],
      "metadata": {
        "colab": {
          "base_uri": "https://localhost:8080/"
        },
        "id": "Tr-B50lLa1K3",
        "outputId": "d7778eb2-ef3f-4570-fdc5-51f7dc412637"
      },
      "execution_count": 1,
      "outputs": [
        {
          "output_type": "stream",
          "name": "stdout",
          "text": [
            "Requirement already satisfied: pandas-ta in /usr/local/lib/python3.12/dist-packages (0.4.67b0)\n",
            "Requirement already satisfied: numba==0.61.2 in /usr/local/lib/python3.12/dist-packages (from pandas-ta) (0.61.2)\n",
            "Requirement already satisfied: numpy>=2.2.6 in /usr/local/lib/python3.12/dist-packages (from pandas-ta) (2.2.6)\n",
            "Requirement already satisfied: pandas>=2.3.2 in /usr/local/lib/python3.12/dist-packages (from pandas-ta) (2.3.2)\n",
            "Requirement already satisfied: tqdm>=4.67.1 in /usr/local/lib/python3.12/dist-packages (from pandas-ta) (4.67.1)\n",
            "Requirement already satisfied: llvmlite<0.45,>=0.44.0dev0 in /usr/local/lib/python3.12/dist-packages (from numba==0.61.2->pandas-ta) (0.44.0)\n",
            "Requirement already satisfied: python-dateutil>=2.8.2 in /usr/local/lib/python3.12/dist-packages (from pandas>=2.3.2->pandas-ta) (2.9.0.post0)\n",
            "Requirement already satisfied: pytz>=2020.1 in /usr/local/lib/python3.12/dist-packages (from pandas>=2.3.2->pandas-ta) (2025.2)\n",
            "Requirement already satisfied: tzdata>=2022.7 in /usr/local/lib/python3.12/dist-packages (from pandas>=2.3.2->pandas-ta) (2025.2)\n",
            "Requirement already satisfied: six>=1.5 in /usr/local/lib/python3.12/dist-packages (from python-dateutil>=2.8.2->pandas>=2.3.2->pandas-ta) (1.17.0)\n"
          ]
        }
      ]
    },
    {
      "cell_type": "code",
      "source": [
        "# !pip install pandas-ta\n",
        "\n",
        "import pandas as pd\n",
        "import numpy as np\n",
        "import pandas_ta as ta\n",
        "from sklearn.preprocessing import MinMaxScaler\n",
        "from tensorflow.keras.models import Sequential, load_model # load_model 추가\n",
        "from tensorflow.keras.layers import Dense, LSTM, Dropout, Input\n",
        "import os # 파일 존재 여부 확인을 위해 추가\n",
        "\n",
        "# 1. 데이터 불러오기 및 전처리\n",
        "# /content/drive/MyDrive/Colab Notebooks/20230610_20250610_일봉_000050_경방.csv\n",
        "df = pd.read_csv('/content/drive/MyDrive/Colab Notebooks/20230610_20250610_일봉_000050_경방.csv')\n",
        "# df = pd.read_csv('20230610_20250610_일봉_000050_경방.csv')\n",
        "\n",
        "df['일자'] = pd.to_datetime(df['일자'], format='%Y%m%d')\n",
        "df = df.sort_values('일자').reset_index(drop=True)\n",
        "df['sma20'] = ta.sma(df['현재가'], length=20)\n",
        "df['rsi14'] = ta.rsi(df['현재가'], length=14)\n",
        "df.dropna(subset=['sma20', 'rsi14'], inplace=True)\n",
        "df = df.reset_index(drop=True)\n",
        "\n",
        "# --- 2. 데이터 전처리 ---\n",
        "features = ['시가', '고가', '저가', '현재가', '거래량', 'sma20', 'rsi14']\n",
        "data = df[features].copy()\n",
        "scaler = MinMaxScaler(feature_range=(0, 1))\n",
        "scaled_data = scaler.fit_transform(data)\n",
        "\n",
        "# --- 3. 모델 불러오기 또는 새로 학습하기 ---\n",
        "model_filename = 'stock_prediction_model.keras'\n",
        "\n",
        "if os.path.exists(model_filename):\n",
        "    print(f\"저장된 모델 '{model_filename}'을 불러옵니다.\")\n",
        "    model = load_model(model_filename)\n",
        "else:\n",
        "    print(\"저장된 모델이 없습니다. 새로 모델을 학습하고 저장합니다.\")\n",
        "    # 모델 학습 데이터셋 생성\n",
        "    train_data_len = int(np.ceil(len(scaled_data) * 0.8))\n",
        "    train_data = scaled_data[0:train_data_len, :]\n",
        "    x_train, y_train = [], []\n",
        "    look_back = 60\n",
        "\n",
        "    for i in range(look_back, len(train_data)):\n",
        "        x_train.append(train_data[i-look_back:i, :])\n",
        "        y_train.append(train_data[i, 3])\n",
        "\n",
        "    x_train, y_train = np.array(x_train), np.array(y_train)\n",
        "\n",
        "    # LSTM 모델 구축\n",
        "    model = Sequential([\n",
        "        Input(shape=(x_train.shape[1], x_train.shape[2])),\n",
        "        LSTM(units=50, return_sequences=True),\n",
        "        Dropout(0.2),\n",
        "        LSTM(units=50, return_sequences=False),\n",
        "        Dropout(0.2),\n",
        "        Dense(units=25),\n",
        "        Dense(units=1)\n",
        "    ])\n",
        "    model.compile(optimizer='adam', loss='mean_squared_error')\n",
        "\n",
        "    # 모델 학습\n",
        "    model.fit(x_train, y_train, batch_size=32, epochs=50, verbose=1)\n",
        "\n",
        "    # 모델 저장\n",
        "    model.save(model_filename)\n",
        "\n",
        "# --- 4. 다음 날 주가 예측 ---\n",
        "look_back = 60 # 예측 시에도 동일한 look_back 값 필요\n",
        "last_look_back_days_scaled = scaled_data[-look_back:]\n",
        "x_predict = np.reshape(last_look_back_days_scaled, (1, look_back, len(features)))\n",
        "predicted_price_scaled = model.predict(x_predict)\n",
        "\n",
        "dummy_predict = np.zeros((1, len(features)))\n",
        "dummy_predict[:, 3] = predicted_price_scaled\n",
        "predicted_price = scaler.inverse_transform(dummy_predict)[:, 3][0]\n",
        "\n",
        "# --- 5. 매매 신호 판단 ---\n",
        "latest_data = df.iloc[-1]\n",
        "current_price = latest_data['현재가']\n",
        "current_sma20 = latest_data['sma20']\n",
        "current_rsi14 = latest_data['rsi14']\n",
        "\n",
        "print(\"\\n--- 매매 신호 판단 ---\")\n",
        "print(f\"현재 가격: {current_price:,.0f}원\")\n",
        "print(f\"다음 날 예측 가격: {predicted_price:,.0f}원\")\n",
        "print(f\"현재 20일 이동평균선: {current_sma20:,.0f}원\")\n",
        "print(f\"현재 RSI14: {current_rsi14:.2f}\")\n",
        "print(\"--------------------\")\n",
        "\n",
        "def get_trading_signal(predicted, current, sma20, rsi14):\n",
        "    is_buy_signal = (predicted > current * 1.02 and current > sma20 and rsi14 < 70)\n",
        "    is_sell_signal = (predicted < current * 0.98)\n",
        "\n",
        "    if is_buy_signal:\n",
        "        print(\"판단: 매수 신호\")\n",
        "        return 1\n",
        "    elif is_sell_signal:\n",
        "        print(\"판단: 매도 신호\")\n",
        "        return 0\n",
        "    else:\n",
        "        print(\"판단: 관망 (매매 신호 없음)\")\n",
        "        return None\n",
        "\n",
        "signal = get_trading_signal(predicted_price, current_price, current_sma20, current_rsi14)\n",
        "print(f\"\\n최종 출력: {signal}\")"
      ],
      "metadata": {
        "id": "_m91CQ3caKNi",
        "colab": {
          "base_uri": "https://localhost:8080/"
        },
        "outputId": "447bfdd3-9182-448a-e486-fc9f794fcd54"
      },
      "execution_count": 4,
      "outputs": [
        {
          "output_type": "stream",
          "name": "stdout",
          "text": [
            "저장된 모델 'stock_prediction_model.keras'을 불러옵니다.\n",
            "\u001b[1m1/1\u001b[0m \u001b[32m━━━━━━━━━━━━━━━━━━━━\u001b[0m\u001b[37m\u001b[0m \u001b[1m1s\u001b[0m 839ms/step\n",
            "\n",
            "--- 매매 신호 판단 ---\n",
            "현재 가격: 8,000원\n",
            "다음 날 예측 가격: 7,539원\n",
            "현재 20일 이동평균선: 7,580원\n",
            "현재 RSI14: 58.34\n",
            "--------------------\n",
            "판단: 매도 신호\n",
            "\n",
            "최종 출력: 0\n"
          ]
        }
      ]
    }
  ]
}